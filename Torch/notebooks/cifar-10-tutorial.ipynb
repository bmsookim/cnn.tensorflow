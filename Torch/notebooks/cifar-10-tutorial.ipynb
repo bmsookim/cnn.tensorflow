{
 "cells": [
  {
   "cell_type": "code",
   "execution_count": 2,
   "metadata": {
    "collapsed": false
   },
   "outputs": [],
   "source": [
    "dataset = torch.load('../gen/cifar10.t7')\n",
    "\n",
    "trainData = {\n",
    "    data = torch.Tensor(50000, 3*32*32),\n",
    "    labels = torch.Tensor(50000),\n",
    "    size = function() return 50000 end\n",
    "}"
   ]
  },
  {
   "cell_type": "code",
   "execution_count": 3,
   "metadata": {
    "collapsed": false
   },
   "outputs": [],
   "source": [
    "trainData.data = dataset.train.data\n",
    "trainData.labels = dataset.train.labels"
   ]
  },
  {
   "cell_type": "code",
   "execution_count": 6,
   "metadata": {
    "collapsed": false
   },
   "outputs": [
    {
     "ename": "not enough memory",
     "evalue": "",
     "output_type": "error",
     "traceback": [
      "not enough memory"
     ]
    }
   ],
   "source": [
    "require 'image';\n",
    "\n",
    "image_lst = trainData.data[{{1,2}}]\n",
    "itorch.image(trainData.data, {nrow=10})"
   ]
  }
 ],
 "metadata": {
  "kernelspec": {
   "display_name": "iTorch",
   "language": "lua",
   "name": "itorch"
  },
  "language_info": {
   "name": "lua",
   "version": "5.1"
  }
 },
 "nbformat": 4,
 "nbformat_minor": 1
}
